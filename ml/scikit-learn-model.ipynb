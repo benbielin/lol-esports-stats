{
 "cells": [
  {
   "cell_type": "code",
   "execution_count": 1,
   "id": "81004067",
   "metadata": {
    "_cell_guid": "b1076dfc-b9ad-4769-8c92-a6c4dae69d19",
    "_uuid": "8f2839f25d086af736a60e9eeb907d3b93b6e0e5",
    "execution": {
     "iopub.execute_input": "2022-10-05T07:00:57.411562Z",
     "iopub.status.busy": "2022-10-05T07:00:57.411103Z",
     "iopub.status.idle": "2022-10-05T07:00:57.436889Z",
     "shell.execute_reply": "2022-10-05T07:00:57.435678Z"
    },
    "papermill": {
     "duration": 0.036946,
     "end_time": "2022-10-05T07:00:57.440204",
     "exception": false,
     "start_time": "2022-10-05T07:00:57.403258",
     "status": "completed"
    },
    "tags": []
   },
   "outputs": [
    {
     "name": "stdout",
     "output_type": "stream",
     "text": [
      "/kaggle/input/fakerlolesportsdata/faker_2017_kespa.csv\n",
      "/kaggle/input/fakerlolesportsdata/faker_2020_spring_playoffs.csv\n",
      "/kaggle/input/fakerlolesportsdata/faker_2016_summer_playoffs.csv\n",
      "/kaggle/input/fakerlolesportsdata/faker_champ_stats_temp.csv\n",
      "/kaggle/input/fakerlolesportsdata/faker_2018_kespa_cup.csv\n",
      "/kaggle/input/fakerlolesportsdata/faker_2017_rift_rivals.csv\n",
      "/kaggle/input/fakerlolesportsdata/faker_2022_summer.csv\n",
      "/kaggle/input/fakerlolesportsdata/faker_2017_spring_playoffs.csv\n",
      "/kaggle/input/fakerlolesportsdata/faker_2017_spring.csv\n",
      "/kaggle/input/fakerlolesportsdata/faker_2013_regional_finals.csv\n",
      "/kaggle/input/fakerlolesportsdata/faker_2013_spring.csv\n",
      "/kaggle/input/fakerlolesportsdata/faker_2020_regional_finals.csv\n",
      "/kaggle/input/fakerlolesportsdata/faker_2017_summer.csv\n",
      "/kaggle/input/fakerlolesportsdata/faker_2016_msi.csv\n",
      "/kaggle/input/fakerlolesportsdata/faker_2018_rift_rivals.csv\n",
      "/kaggle/input/fakerlolesportsdata/faker_2016_iem.csv\n",
      "/kaggle/input/fakerlolesportsdata/faker_2013_summer.csv\n",
      "/kaggle/input/fakerlolesportsdata/faker_match_history.csv\n",
      "/kaggle/input/fakerlolesportsdata/faker_2016_kespa.csv\n",
      "/kaggle/input/fakerlolesportsdata/faker_2021_summer_playoffs.csv\n",
      "/kaggle/input/fakerlolesportsdata/faker_2017_all_stars.csv\n",
      "/kaggle/input/fakerlolesportsdata/faker_2014_summer.csv\n",
      "/kaggle/input/fakerlolesportsdata/faker_2019_spring_playoffs.csv\n",
      "/kaggle/input/fakerlolesportsdata/faker_2022_spring.csv\n",
      "/kaggle/input/fakerlolesportsdata/faker_2019_kespa_cup.csv\n",
      "/kaggle/input/fakerlolesportsdata/faker_2015_kespa.csv\n",
      "/kaggle/input/fakerlolesportsdata/faker_2015_summer.csv\n",
      "/kaggle/input/fakerlolesportsdata/faker_2018_spring_playoffs.csv\n",
      "/kaggle/input/fakerlolesportsdata/faker_2015_msi.csv\n",
      "/kaggle/input/fakerlolesportsdata/faker_2016_spring_playoffs.csv\n",
      "/kaggle/input/fakerlolesportsdata/faker_2016_worlds.csv\n",
      "/kaggle/input/fakerlolesportsdata/faker_2020_midseason_cup.csv\n",
      "/kaggle/input/fakerlolesportsdata/faker_2020_spring.csv\n",
      "/kaggle/input/fakerlolesportsdata/faker_2014_spring.csv\n",
      "/kaggle/input/fakerlolesportsdata/faker_2018_summer.csv\n",
      "/kaggle/input/fakerlolesportsdata/faker_2013_worlds.csv\n",
      "/kaggle/input/fakerlolesportsdata/faker_2017_worlds.csv\n",
      "/kaggle/input/fakerlolesportsdata/faker_2019_msi.csv\n",
      "/kaggle/input/fakerlolesportsdata/faker_champ_stats.csv\n",
      "/kaggle/input/fakerlolesportsdata/faker_2018_asian_games.csv\n",
      "/kaggle/input/fakerlolesportsdata/faker_2015_spring_playoffs.csv\n",
      "/kaggle/input/fakerlolesportsdata/faker_2022_msi.csv\n",
      "/kaggle/input/fakerlolesportsdata/faker_2015_summer_playoffs.csv\n",
      "/kaggle/input/fakerlolesportsdata/faker_2019_spring.csv\n",
      "/kaggle/input/fakerlolesportsdata/faker_2014_regional_finals.csv\n",
      "/kaggle/input/fakerlolesportsdata/faker_2014_all_stars.csv\n",
      "/kaggle/input/fakerlolesportsdata/faker_2021_regional_finals.csv\n",
      "/kaggle/input/fakerlolesportsdata/faker_2015_spring.csv\n",
      "/kaggle/input/fakerlolesportsdata/faker_2021_worlds.csv\n",
      "/kaggle/input/fakerlolesportsdata/faker_2015_worlds.csv\n",
      "/kaggle/input/fakerlolesportsdata/faker_2019_summer_playoffs.csv\n",
      "/kaggle/input/fakerlolesportsdata/faker_2019_worlds.csv\n",
      "/kaggle/input/fakerlolesportsdata/faker_2022_spring_playoffs.csv\n",
      "/kaggle/input/fakerlolesportsdata/faker_2021_spring_playoffs.csv\n",
      "/kaggle/input/fakerlolesportsdata/faker_results_tournaments.csv\n",
      "/kaggle/input/fakerlolesportsdata/faker_2017_summer_playoffs.csv\n",
      "/kaggle/input/fakerlolesportsdata/faker_2020_summer_playoffs.csv\n",
      "/kaggle/input/fakerlolesportsdata/faker_2018_spring.csv\n",
      "/kaggle/input/fakerlolesportsdata/faker_2019_rift_rivals.csv\n",
      "/kaggle/input/fakerlolesportsdata/faker_2021_spring.csv\n",
      "/kaggle/input/fakerlolesportsdata/faker_2016_summer.csv\n",
      "/kaggle/input/fakerlolesportsdata/faker_2014_nlb_summer.csv\n",
      "/kaggle/input/fakerlolesportsdata/faker_2019_summer.csv\n",
      "/kaggle/input/fakerlolesportsdata/faker_2020_summer.csv\n",
      "/kaggle/input/fakerlolesportsdata/faker_2018_regional_finals.csv\n",
      "/kaggle/input/fakerlolesportsdata/faker_2015_preseason.csv\n",
      "/kaggle/input/fakerlolesportsdata/faker_2017_msi.csv\n",
      "/kaggle/input/fakerlolesportsdata/faker_2022_summer_playoffs.csv\n",
      "/kaggle/input/fakerlolesportsdata/faker_2014_winter.csv\n",
      "/kaggle/input/fakerlolesportsdata/faker_2021_summer.csv\n",
      "/kaggle/input/fakerlolesportsdata/faker_2016_spring.csv\n"
     ]
    }
   ],
   "source": [
    "# This Python 3 environment comes with many helpful analytics libraries installed\n",
    "# It is defined by the kaggle/python Docker image: https://github.com/kaggle/docker-python\n",
    "# For example, here's several helpful packages to load\n",
    "\n",
    "import numpy as np # linear algebra\n",
    "import pandas as pd # data processing, CSV file I/O (e.g. pd.read_csv)\n",
    "\n",
    "# Input data files are available in the read-only \"../input/\" directory\n",
    "# For example, running this (by clicking run or pressing Shift+Enter) will list all files under the input directory\n",
    "\n",
    "import os\n",
    "for dirname, _, filenames in os.walk('/kaggle/input'):\n",
    "    for filename in filenames:\n",
    "        print(os.path.join(dirname, filename))\n",
    "\n",
    "# You can write up to 20GB to the current directory (/kaggle/working/) that gets preserved as output when you create a version using \"Save & Run All\" \n",
    "# You can also write temporary files to /kaggle/temp/, but they won't be saved outside of the current session"
   ]
  },
  {
   "cell_type": "markdown",
   "id": "22f4f0c0",
   "metadata": {
    "papermill": {
     "duration": 0.004427,
     "end_time": "2022-10-05T07:00:57.449864",
     "exception": false,
     "start_time": "2022-10-05T07:00:57.445437",
     "status": "completed"
    },
    "tags": []
   },
   "source": [
    "# Scikit-Learn"
   ]
  },
  {
   "cell_type": "code",
   "execution_count": 2,
   "id": "6f2cdb05",
   "metadata": {
    "execution": {
     "iopub.execute_input": "2022-10-05T07:00:57.461213Z",
     "iopub.status.busy": "2022-10-05T07:00:57.460749Z",
     "iopub.status.idle": "2022-10-05T07:00:57.502721Z",
     "shell.execute_reply": "2022-10-05T07:00:57.501398Z"
    },
    "papermill": {
     "duration": 0.050687,
     "end_time": "2022-10-05T07:00:57.505483",
     "exception": false,
     "start_time": "2022-10-05T07:00:57.454796",
     "status": "completed"
    },
    "tags": []
   },
   "outputs": [],
   "source": [
    "faker = pd.read_csv('../input/fakerlolesportsdata/faker_match_history.csv')"
   ]
  },
  {
   "cell_type": "code",
   "execution_count": 3,
   "id": "d6e7d1dc",
   "metadata": {
    "execution": {
     "iopub.execute_input": "2022-10-05T07:00:57.516984Z",
     "iopub.status.busy": "2022-10-05T07:00:57.516510Z",
     "iopub.status.idle": "2022-10-05T07:00:57.560905Z",
     "shell.execute_reply": "2022-10-05T07:00:57.559705Z"
    },
    "papermill": {
     "duration": 0.053215,
     "end_time": "2022-10-05T07:00:57.563530",
     "exception": false,
     "start_time": "2022-10-05T07:00:57.510315",
     "status": "completed"
    },
    "tags": []
   },
   "outputs": [
    {
     "data": {
      "text/html": [
       "<div>\n",
       "<style scoped>\n",
       "    .dataframe tbody tr th:only-of-type {\n",
       "        vertical-align: middle;\n",
       "    }\n",
       "\n",
       "    .dataframe tbody tr th {\n",
       "        vertical-align: top;\n",
       "    }\n",
       "\n",
       "    .dataframe thead th {\n",
       "        text-align: right;\n",
       "    }\n",
       "</style>\n",
       "<table border=\"1\" class=\"dataframe\">\n",
       "  <thead>\n",
       "    <tr style=\"text-align: right;\">\n",
       "      <th></th>\n",
       "      <th>Unnamed: 0</th>\n",
       "      <th>Unnamed: 0.1</th>\n",
       "      <th>Date</th>\n",
       "      <th>Tournament</th>\n",
       "      <th>Team</th>\n",
       "      <th>OpponentTeam</th>\n",
       "      <th>W/L</th>\n",
       "      <th>Blue</th>\n",
       "      <th>Red</th>\n",
       "      <th>Side</th>\n",
       "      <th>...</th>\n",
       "      <th>CSD</th>\n",
       "      <th>SpellD</th>\n",
       "      <th>SpellF</th>\n",
       "      <th>Items</th>\n",
       "      <th>Item1</th>\n",
       "      <th>Item2</th>\n",
       "      <th>Item3</th>\n",
       "      <th>Item4</th>\n",
       "      <th>Item5</th>\n",
       "      <th>Item6</th>\n",
       "    </tr>\n",
       "  </thead>\n",
       "  <tbody>\n",
       "    <tr>\n",
       "      <th>0</th>\n",
       "      <td>0</td>\n",
       "      <td>0</td>\n",
       "      <td>2022-08-28</td>\n",
       "      <td>LCK 2022 Summer Playoffs</td>\n",
       "      <td>T1</td>\n",
       "      <td>Gen.G</td>\n",
       "      <td>Loss</td>\n",
       "      <td>Gen.G</td>\n",
       "      <td>T1</td>\n",
       "      <td>Red</td>\n",
       "      <td>...</td>\n",
       "      <td>-32</td>\n",
       "      <td>Teleport</td>\n",
       "      <td>Flash</td>\n",
       "      <td>['Everfrost', 'Control Ward', \"Zhonya's Hourgl...</td>\n",
       "      <td>Everfrost</td>\n",
       "      <td>Control Ward</td>\n",
       "      <td>Zhonya's Hourglass</td>\n",
       "      <td>Banshee's Veil</td>\n",
       "      <td>Blasting Wand</td>\n",
       "      <td>Ionian Boots of Lucidity</td>\n",
       "    </tr>\n",
       "    <tr>\n",
       "      <th>1</th>\n",
       "      <td>1</td>\n",
       "      <td>1</td>\n",
       "      <td>2022-08-28</td>\n",
       "      <td>LCK 2022 Summer Playoffs</td>\n",
       "      <td>T1</td>\n",
       "      <td>Gen.G</td>\n",
       "      <td>Loss</td>\n",
       "      <td>T1</td>\n",
       "      <td>Gen.G</td>\n",
       "      <td>Blue</td>\n",
       "      <td>...</td>\n",
       "      <td>-46</td>\n",
       "      <td>Teleport</td>\n",
       "      <td>Flash</td>\n",
       "      <td>['Goredrinker', 'Vampiric Scepter', 'EmptyIcon...</td>\n",
       "      <td>Goredrinker</td>\n",
       "      <td>Vampiric Scepter</td>\n",
       "      <td>EmptyIcon</td>\n",
       "      <td>Doran's Blade</td>\n",
       "      <td>Mercury's Treads</td>\n",
       "      <td>Recurve Bow</td>\n",
       "    </tr>\n",
       "    <tr>\n",
       "      <th>2</th>\n",
       "      <td>2</td>\n",
       "      <td>2</td>\n",
       "      <td>2022-08-28</td>\n",
       "      <td>LCK 2022 Summer Playoffs</td>\n",
       "      <td>T1</td>\n",
       "      <td>Gen.G</td>\n",
       "      <td>Loss</td>\n",
       "      <td>T1</td>\n",
       "      <td>Gen.G</td>\n",
       "      <td>Blue</td>\n",
       "      <td>...</td>\n",
       "      <td>-39</td>\n",
       "      <td>Teleport</td>\n",
       "      <td>Flash</td>\n",
       "      <td>['Eternal Winter', \"Rabadon's Deathcap\", \"Zhon...</td>\n",
       "      <td>Eternal Winter</td>\n",
       "      <td>Rabadon's Deathcap</td>\n",
       "      <td>Zhonya's Hourglass</td>\n",
       "      <td>Void Staff</td>\n",
       "      <td>Ionian Boots of Lucidity</td>\n",
       "      <td>Dark Seal</td>\n",
       "    </tr>\n",
       "    <tr>\n",
       "      <th>3</th>\n",
       "      <td>3</td>\n",
       "      <td>3</td>\n",
       "      <td>2022-08-21</td>\n",
       "      <td>LCK 2022 Summer Playoffs</td>\n",
       "      <td>T1</td>\n",
       "      <td>DWG KIA</td>\n",
       "      <td>Win</td>\n",
       "      <td>T1</td>\n",
       "      <td>DWG KIA</td>\n",
       "      <td>Blue</td>\n",
       "      <td>...</td>\n",
       "      <td>-92</td>\n",
       "      <td>Teleport</td>\n",
       "      <td>Flash</td>\n",
       "      <td>['Everfrost', 'EmptyIcon', \"Zhonya's Hourglass...</td>\n",
       "      <td>Everfrost</td>\n",
       "      <td>EmptyIcon</td>\n",
       "      <td>Zhonya's Hourglass</td>\n",
       "      <td>Sorcerer's Shoes</td>\n",
       "      <td>Banshee's Veil</td>\n",
       "      <td>Rabadon's Deathcap</td>\n",
       "    </tr>\n",
       "    <tr>\n",
       "      <th>4</th>\n",
       "      <td>4</td>\n",
       "      <td>4</td>\n",
       "      <td>2022-08-21</td>\n",
       "      <td>LCK 2022 Summer Playoffs</td>\n",
       "      <td>T1</td>\n",
       "      <td>DWG KIA</td>\n",
       "      <td>Loss</td>\n",
       "      <td>T1</td>\n",
       "      <td>DWG KIA</td>\n",
       "      <td>Blue</td>\n",
       "      <td>...</td>\n",
       "      <td>0</td>\n",
       "      <td>Teleport</td>\n",
       "      <td>Flash</td>\n",
       "      <td>['Blasting Wand', 'Morellonomicon', \"Zhonya's ...</td>\n",
       "      <td>Blasting Wand</td>\n",
       "      <td>Morellonomicon</td>\n",
       "      <td>Zhonya's Hourglass</td>\n",
       "      <td>Crown of the Shattered Queen</td>\n",
       "      <td>Dark Seal</td>\n",
       "      <td>Sorcerer's Shoes</td>\n",
       "    </tr>\n",
       "  </tbody>\n",
       "</table>\n",
       "<p>5 rows × 30 columns</p>\n",
       "</div>"
      ],
      "text/plain": [
       "   Unnamed: 0  Unnamed: 0.1        Date                Tournament Team  \\\n",
       "0           0             0  2022-08-28  LCK 2022 Summer Playoffs   T1   \n",
       "1           1             1  2022-08-28  LCK 2022 Summer Playoffs   T1   \n",
       "2           2             2  2022-08-28  LCK 2022 Summer Playoffs   T1   \n",
       "3           3             3  2022-08-21  LCK 2022 Summer Playoffs   T1   \n",
       "4           4             4  2022-08-21  LCK 2022 Summer Playoffs   T1   \n",
       "\n",
       "  OpponentTeam   W/L   Blue      Red  Side  ... CSD    SpellD SpellF  \\\n",
       "0        Gen.G  Loss  Gen.G       T1   Red  ... -32  Teleport  Flash   \n",
       "1        Gen.G  Loss     T1    Gen.G  Blue  ... -46  Teleport  Flash   \n",
       "2        Gen.G  Loss     T1    Gen.G  Blue  ... -39  Teleport  Flash   \n",
       "3      DWG KIA   Win     T1  DWG KIA  Blue  ... -92  Teleport  Flash   \n",
       "4      DWG KIA  Loss     T1  DWG KIA  Blue  ...   0  Teleport  Flash   \n",
       "\n",
       "                                               Items           Item1  \\\n",
       "0  ['Everfrost', 'Control Ward', \"Zhonya's Hourgl...       Everfrost   \n",
       "1  ['Goredrinker', 'Vampiric Scepter', 'EmptyIcon...     Goredrinker   \n",
       "2  ['Eternal Winter', \"Rabadon's Deathcap\", \"Zhon...  Eternal Winter   \n",
       "3  ['Everfrost', 'EmptyIcon', \"Zhonya's Hourglass...       Everfrost   \n",
       "4  ['Blasting Wand', 'Morellonomicon', \"Zhonya's ...   Blasting Wand   \n",
       "\n",
       "                Item2               Item3                         Item4  \\\n",
       "0        Control Ward  Zhonya's Hourglass                Banshee's Veil   \n",
       "1    Vampiric Scepter           EmptyIcon                 Doran's Blade   \n",
       "2  Rabadon's Deathcap  Zhonya's Hourglass                    Void Staff   \n",
       "3           EmptyIcon  Zhonya's Hourglass              Sorcerer's Shoes   \n",
       "4      Morellonomicon  Zhonya's Hourglass  Crown of the Shattered Queen   \n",
       "\n",
       "                      Item5                     Item6  \n",
       "0             Blasting Wand  Ionian Boots of Lucidity  \n",
       "1          Mercury's Treads               Recurve Bow  \n",
       "2  Ionian Boots of Lucidity                 Dark Seal  \n",
       "3            Banshee's Veil        Rabadon's Deathcap  \n",
       "4                 Dark Seal          Sorcerer's Shoes  \n",
       "\n",
       "[5 rows x 30 columns]"
      ]
     },
     "execution_count": 3,
     "metadata": {},
     "output_type": "execute_result"
    }
   ],
   "source": [
    "faker.head()"
   ]
  },
  {
   "cell_type": "code",
   "execution_count": 4,
   "id": "f334a57e",
   "metadata": {
    "execution": {
     "iopub.execute_input": "2022-10-05T07:00:57.575821Z",
     "iopub.status.busy": "2022-10-05T07:00:57.575434Z",
     "iopub.status.idle": "2022-10-05T07:00:57.589022Z",
     "shell.execute_reply": "2022-10-05T07:00:57.587687Z"
    },
    "papermill": {
     "duration": 0.02282,
     "end_time": "2022-10-05T07:00:57.591899",
     "exception": false,
     "start_time": "2022-10-05T07:00:57.569079",
     "status": "completed"
    },
    "tags": []
   },
   "outputs": [],
   "source": [
    "faker = faker.dropna()"
   ]
  },
  {
   "cell_type": "code",
   "execution_count": 5,
   "id": "cd89a7f1",
   "metadata": {
    "execution": {
     "iopub.execute_input": "2022-10-05T07:00:57.603889Z",
     "iopub.status.busy": "2022-10-05T07:00:57.603471Z",
     "iopub.status.idle": "2022-10-05T07:00:57.622433Z",
     "shell.execute_reply": "2022-10-05T07:00:57.621206Z"
    },
    "papermill": {
     "duration": 0.027962,
     "end_time": "2022-10-05T07:00:57.625051",
     "exception": false,
     "start_time": "2022-10-05T07:00:57.597089",
     "status": "completed"
    },
    "tags": []
   },
   "outputs": [
    {
     "data": {
      "text/html": [
       "<div>\n",
       "<style scoped>\n",
       "    .dataframe tbody tr th:only-of-type {\n",
       "        vertical-align: middle;\n",
       "    }\n",
       "\n",
       "    .dataframe tbody tr th {\n",
       "        vertical-align: top;\n",
       "    }\n",
       "\n",
       "    .dataframe thead th {\n",
       "        text-align: right;\n",
       "    }\n",
       "</style>\n",
       "<table border=\"1\" class=\"dataframe\">\n",
       "  <thead>\n",
       "    <tr style=\"text-align: right;\">\n",
       "      <th></th>\n",
       "      <th>OpponentTeam</th>\n",
       "      <th>Side</th>\n",
       "      <th>Champion</th>\n",
       "      <th>Vs</th>\n",
       "    </tr>\n",
       "  </thead>\n",
       "  <tbody>\n",
       "    <tr>\n",
       "      <th>0</th>\n",
       "      <td>Gen.G</td>\n",
       "      <td>Red</td>\n",
       "      <td>Ahri</td>\n",
       "      <td>Azir</td>\n",
       "    </tr>\n",
       "    <tr>\n",
       "      <th>1</th>\n",
       "      <td>Gen.G</td>\n",
       "      <td>Blue</td>\n",
       "      <td>Renekton</td>\n",
       "      <td>Sylas</td>\n",
       "    </tr>\n",
       "    <tr>\n",
       "      <th>2</th>\n",
       "      <td>Gen.G</td>\n",
       "      <td>Blue</td>\n",
       "      <td>Ahri</td>\n",
       "      <td>Azir</td>\n",
       "    </tr>\n",
       "    <tr>\n",
       "      <th>3</th>\n",
       "      <td>DWG KIA</td>\n",
       "      <td>Blue</td>\n",
       "      <td>Galio</td>\n",
       "      <td>Yasuo</td>\n",
       "    </tr>\n",
       "    <tr>\n",
       "      <th>4</th>\n",
       "      <td>DWG KIA</td>\n",
       "      <td>Blue</td>\n",
       "      <td>Azir</td>\n",
       "      <td>Sylas</td>\n",
       "    </tr>\n",
       "  </tbody>\n",
       "</table>\n",
       "</div>"
      ],
      "text/plain": [
       "  OpponentTeam  Side  Champion     Vs\n",
       "0        Gen.G   Red      Ahri   Azir\n",
       "1        Gen.G  Blue  Renekton  Sylas\n",
       "2        Gen.G  Blue      Ahri   Azir\n",
       "3      DWG KIA  Blue     Galio  Yasuo\n",
       "4      DWG KIA  Blue      Azir  Sylas"
      ]
     },
     "execution_count": 5,
     "metadata": {},
     "output_type": "execute_result"
    }
   ],
   "source": [
    "X = faker.loc[:,['OpponentTeam', 'Side', 'Champion', 'Vs', 'KDA', 'Dmg', 'CSD']]\n",
    "to_encode = X.loc[:,['OpponentTeam', 'Side', 'Champion', 'Vs']]\n",
    "to_encode.head()"
   ]
  },
  {
   "cell_type": "code",
   "execution_count": 6,
   "id": "c337a853",
   "metadata": {
    "execution": {
     "iopub.execute_input": "2022-10-05T07:00:57.638217Z",
     "iopub.status.busy": "2022-10-05T07:00:57.637395Z",
     "iopub.status.idle": "2022-10-05T07:00:58.838692Z",
     "shell.execute_reply": "2022-10-05T07:00:58.837374Z"
    },
    "papermill": {
     "duration": 1.210659,
     "end_time": "2022-10-05T07:00:58.841178",
     "exception": false,
     "start_time": "2022-10-05T07:00:57.630519",
     "status": "completed"
    },
    "tags": []
   },
   "outputs": [
    {
     "data": {
      "text/plain": [
       "array([[  0. ,   0. ,   0. , ...,   1. ,   6.4, -32. ],\n",
       "       [  0. ,   0. ,   0. , ...,   0.2,   8. , -46. ],\n",
       "       [  0. ,   0. ,   0. , ...,   1.5,  13.1, -39. ],\n",
       "       ...,\n",
       "       [  0. ,   0. ,   0. , ...,   4. ,  12.9,  52. ],\n",
       "       [  0. ,   0. ,   0. , ...,   2.5,   8.9,  42. ],\n",
       "       [  0. ,   0. ,   0. , ...,   1. ,  16.8,  10. ]])"
      ]
     },
     "execution_count": 6,
     "metadata": {},
     "output_type": "execute_result"
    }
   ],
   "source": [
    "from sklearn.compose import ColumnTransformer\n",
    "from sklearn.preprocessing import OneHotEncoder\n",
    "ohe = OneHotEncoder()\n",
    "ct = ColumnTransformer(transformers=[('encoder', ohe, [0, 1, 2, 3])], remainder='passthrough', sparse_threshold=0)\n",
    "X = np.array(ct.fit_transform(X))\n",
    "X"
   ]
  },
  {
   "cell_type": "code",
   "execution_count": 7,
   "id": "81c08fcf",
   "metadata": {
    "execution": {
     "iopub.execute_input": "2022-10-05T07:00:58.853965Z",
     "iopub.status.busy": "2022-10-05T07:00:58.853519Z",
     "iopub.status.idle": "2022-10-05T07:00:58.866959Z",
     "shell.execute_reply": "2022-10-05T07:00:58.865702Z"
    },
    "papermill": {
     "duration": 0.022714,
     "end_time": "2022-10-05T07:00:58.869364",
     "exception": false,
     "start_time": "2022-10-05T07:00:58.846650",
     "status": "completed"
    },
    "tags": []
   },
   "outputs": [
    {
     "data": {
      "text/plain": [
       "LabelEncoder()"
      ]
     },
     "execution_count": 7,
     "metadata": {},
     "output_type": "execute_result"
    }
   ],
   "source": [
    "from sklearn.preprocessing import LabelEncoder\n",
    "le = LabelEncoder()\n",
    "temp = faker['W/L']\n",
    "le.fit(temp)"
   ]
  },
  {
   "cell_type": "code",
   "execution_count": 8,
   "id": "98029c64",
   "metadata": {
    "execution": {
     "iopub.execute_input": "2022-10-05T07:00:58.882268Z",
     "iopub.status.busy": "2022-10-05T07:00:58.881863Z",
     "iopub.status.idle": "2022-10-05T07:00:58.889126Z",
     "shell.execute_reply": "2022-10-05T07:00:58.887944Z"
    },
    "papermill": {
     "duration": 0.016662,
     "end_time": "2022-10-05T07:00:58.891533",
     "exception": false,
     "start_time": "2022-10-05T07:00:58.874871",
     "status": "completed"
    },
    "tags": []
   },
   "outputs": [
    {
     "data": {
      "text/plain": [
       "['Loss', 'Win']"
      ]
     },
     "execution_count": 8,
     "metadata": {},
     "output_type": "execute_result"
    }
   ],
   "source": [
    "list(le.classes_)"
   ]
  },
  {
   "cell_type": "code",
   "execution_count": 9,
   "id": "5bd6bad5",
   "metadata": {
    "execution": {
     "iopub.execute_input": "2022-10-05T07:00:58.904662Z",
     "iopub.status.busy": "2022-10-05T07:00:58.903943Z",
     "iopub.status.idle": "2022-10-05T07:00:58.912688Z",
     "shell.execute_reply": "2022-10-05T07:00:58.911398Z"
    },
    "papermill": {
     "duration": 0.017857,
     "end_time": "2022-10-05T07:00:58.914914",
     "exception": false,
     "start_time": "2022-10-05T07:00:58.897057",
     "status": "completed"
    },
    "tags": []
   },
   "outputs": [
    {
     "data": {
      "text/plain": [
       "array([0, 0, 0, 1, 0, 0, 1, 1, 1, 1, 0, 0, 1, 0, 1, 1, 1, 0, 0, 1, 0, 1,\n",
       "       1, 1, 0, 1, 1, 0, 1, 1, 1, 0, 1, 1, 1, 1, 1, 0, 1, 1, 0, 0, 1, 1,\n",
       "       1, 1, 1, 1, 1, 0, 1, 1, 0, 1, 0, 1, 0, 1, 1, 1, 1, 1, 1, 0, 1, 1,\n",
       "       0, 1, 1, 0, 1, 1, 1, 1, 1, 1, 1, 1, 0, 1, 1, 1, 1, 1, 1, 1, 1, 0,\n",
       "       1, 1, 1, 0, 1, 1, 1, 1, 1, 1, 1, 1, 1, 1, 0, 1, 1, 1, 1, 1, 1, 1,\n",
       "       0, 1, 1, 0, 1, 0, 1, 1, 1, 1, 1, 1, 1, 0, 1, 1, 0, 0, 1, 1, 0, 1,\n",
       "       1, 1, 1, 1, 1, 1, 0, 1, 1, 0, 0, 1, 1, 0, 1, 0, 0, 1, 1, 1, 0, 1,\n",
       "       1, 1, 0, 0, 1, 1, 1, 0, 1, 1, 0, 1, 0, 1, 0, 1, 0, 1, 1, 1, 0, 1,\n",
       "       1, 0, 0, 1, 1, 0, 0, 1, 1, 0, 1, 1, 1, 0, 0, 0, 0, 1, 1, 0, 1, 0,\n",
       "       1, 1, 0, 0, 0, 1, 1, 0, 1, 1, 1, 1, 0, 1, 1, 1, 1, 1, 0, 1, 0, 1,\n",
       "       1, 1, 0, 1, 0, 0, 1, 0, 0, 1, 0, 0, 0, 1, 1, 0, 1, 0, 1, 0, 1, 1,\n",
       "       0])"
      ]
     },
     "execution_count": 9,
     "metadata": {},
     "output_type": "execute_result"
    }
   ],
   "source": [
    "y = le.transform(temp)\n",
    "y"
   ]
  },
  {
   "cell_type": "code",
   "execution_count": 10,
   "id": "1aaf56d7",
   "metadata": {
    "execution": {
     "iopub.execute_input": "2022-10-05T07:00:58.928420Z",
     "iopub.status.busy": "2022-10-05T07:00:58.927666Z",
     "iopub.status.idle": "2022-10-05T07:00:58.998254Z",
     "shell.execute_reply": "2022-10-05T07:00:58.997048Z"
    },
    "papermill": {
     "duration": 0.080493,
     "end_time": "2022-10-05T07:00:59.001126",
     "exception": false,
     "start_time": "2022-10-05T07:00:58.920633",
     "status": "completed"
    },
    "tags": []
   },
   "outputs": [],
   "source": [
    "from sklearn.model_selection import train_test_split\n",
    "X_train, X_test, y_train, y_test = train_test_split(X, y, test_size=0.2)"
   ]
  },
  {
   "cell_type": "code",
   "execution_count": 11,
   "id": "4475061c",
   "metadata": {
    "execution": {
     "iopub.execute_input": "2022-10-05T07:00:59.014606Z",
     "iopub.status.busy": "2022-10-05T07:00:59.014197Z",
     "iopub.status.idle": "2022-10-05T07:00:59.102315Z",
     "shell.execute_reply": "2022-10-05T07:00:59.101141Z"
    },
    "papermill": {
     "duration": 0.098089,
     "end_time": "2022-10-05T07:00:59.105020",
     "exception": false,
     "start_time": "2022-10-05T07:00:59.006931",
     "status": "completed"
    },
    "tags": []
   },
   "outputs": [
    {
     "data": {
      "text/plain": [
       "LogisticRegression()"
      ]
     },
     "execution_count": 11,
     "metadata": {},
     "output_type": "execute_result"
    }
   ],
   "source": [
    "from sklearn.linear_model import LogisticRegression\n",
    "lr = LogisticRegression()\n",
    "lr"
   ]
  },
  {
   "cell_type": "code",
   "execution_count": 12,
   "id": "0eb6af8e",
   "metadata": {
    "execution": {
     "iopub.execute_input": "2022-10-05T07:00:59.118685Z",
     "iopub.status.busy": "2022-10-05T07:00:59.118231Z",
     "iopub.status.idle": "2022-10-05T07:00:59.206526Z",
     "shell.execute_reply": "2022-10-05T07:00:59.204934Z"
    },
    "papermill": {
     "duration": 0.100343,
     "end_time": "2022-10-05T07:00:59.211325",
     "exception": false,
     "start_time": "2022-10-05T07:00:59.110982",
     "status": "completed"
    },
    "tags": []
   },
   "outputs": [
    {
     "name": "stderr",
     "output_type": "stream",
     "text": [
      "/opt/conda/lib/python3.7/site-packages/sklearn/linear_model/_logistic.py:818: ConvergenceWarning: lbfgs failed to converge (status=1):\n",
      "STOP: TOTAL NO. of ITERATIONS REACHED LIMIT.\n",
      "\n",
      "Increase the number of iterations (max_iter) or scale the data as shown in:\n",
      "    https://scikit-learn.org/stable/modules/preprocessing.html\n",
      "Please also refer to the documentation for alternative solver options:\n",
      "    https://scikit-learn.org/stable/modules/linear_model.html#logistic-regression\n",
      "  extra_warning_msg=_LOGISTIC_SOLVER_CONVERGENCE_MSG,\n"
     ]
    },
    {
     "data": {
      "text/plain": [
       "LogisticRegression()"
      ]
     },
     "execution_count": 12,
     "metadata": {},
     "output_type": "execute_result"
    }
   ],
   "source": [
    "lr.fit(X_train, y_train)"
   ]
  },
  {
   "cell_type": "code",
   "execution_count": 13,
   "id": "a0c32a81",
   "metadata": {
    "execution": {
     "iopub.execute_input": "2022-10-05T07:00:59.244208Z",
     "iopub.status.busy": "2022-10-05T07:00:59.243251Z",
     "iopub.status.idle": "2022-10-05T07:00:59.260795Z",
     "shell.execute_reply": "2022-10-05T07:00:59.258911Z"
    },
    "papermill": {
     "duration": 0.040298,
     "end_time": "2022-10-05T07:00:59.266913",
     "exception": false,
     "start_time": "2022-10-05T07:00:59.226615",
     "status": "completed"
    },
    "tags": []
   },
   "outputs": [
    {
     "data": {
      "text/plain": [
       "array([1, 1, 1, 1, 1, 0, 0, 1, 1, 1, 1, 0, 1, 0, 1, 1, 0, 1, 0, 1, 1, 1,\n",
       "       0, 1, 1, 0, 1, 1, 1, 0, 0, 1, 1, 0, 1, 1, 1, 1, 1, 0, 0, 1, 1, 1,\n",
       "       1, 0, 0, 1, 1])"
      ]
     },
     "execution_count": 13,
     "metadata": {},
     "output_type": "execute_result"
    }
   ],
   "source": [
    "lr.predict(X_test)"
   ]
  },
  {
   "cell_type": "code",
   "execution_count": 14,
   "id": "b557bc8e",
   "metadata": {
    "execution": {
     "iopub.execute_input": "2022-10-05T07:00:59.301096Z",
     "iopub.status.busy": "2022-10-05T07:00:59.300145Z",
     "iopub.status.idle": "2022-10-05T07:00:59.312279Z",
     "shell.execute_reply": "2022-10-05T07:00:59.311141Z"
    },
    "papermill": {
     "duration": 0.033145,
     "end_time": "2022-10-05T07:00:59.314742",
     "exception": false,
     "start_time": "2022-10-05T07:00:59.281597",
     "status": "completed"
    },
    "tags": []
   },
   "outputs": [
    {
     "data": {
      "text/plain": [
       "array([1, 1, 1, 1, 1, 0, 1, 1, 0, 1, 1, 0, 1, 1, 1, 1, 1, 1, 0, 1, 1, 1,\n",
       "       0, 1, 0, 0, 1, 1, 1, 0, 0, 1, 0, 0, 1, 1, 1, 1, 1, 0, 0, 1, 1, 1,\n",
       "       1, 0, 0, 1, 0])"
      ]
     },
     "execution_count": 14,
     "metadata": {},
     "output_type": "execute_result"
    }
   ],
   "source": [
    "y_test"
   ]
  },
  {
   "cell_type": "code",
   "execution_count": null,
   "id": "641ab1d3",
   "metadata": {
    "papermill": {
     "duration": 0.005784,
     "end_time": "2022-10-05T07:00:59.326691",
     "exception": false,
     "start_time": "2022-10-05T07:00:59.320907",
     "status": "completed"
    },
    "tags": []
   },
   "outputs": [],
   "source": []
  }
 ],
 "metadata": {
  "kernelspec": {
   "display_name": "Python 3",
   "language": "python",
   "name": "python3"
  },
  "language_info": {
   "codemirror_mode": {
    "name": "ipython",
    "version": 3
   },
   "file_extension": ".py",
   "mimetype": "text/x-python",
   "name": "python",
   "nbconvert_exporter": "python",
   "pygments_lexer": "ipython3",
   "version": "3.7.12"
  },
  "papermill": {
   "default_parameters": {},
   "duration": 12.131135,
   "end_time": "2022-10-05T07:01:00.056061",
   "environment_variables": {},
   "exception": null,
   "input_path": "__notebook__.ipynb",
   "output_path": "__notebook__.ipynb",
   "parameters": {},
   "start_time": "2022-10-05T07:00:47.924926",
   "version": "2.3.4"
  }
 },
 "nbformat": 4,
 "nbformat_minor": 5
}
