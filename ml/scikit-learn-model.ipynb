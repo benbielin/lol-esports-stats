{
 "cells": [
  {
   "cell_type": "code",
   "execution_count": 1,
   "id": "e73a698e",
   "metadata": {
    "_cell_guid": "b1076dfc-b9ad-4769-8c92-a6c4dae69d19",
    "_uuid": "8f2839f25d086af736a60e9eeb907d3b93b6e0e5",
    "execution": {
     "iopub.execute_input": "2022-10-05T07:03:52.477058Z",
     "iopub.status.busy": "2022-10-05T07:03:52.475924Z",
     "iopub.status.idle": "2022-10-05T07:03:52.512374Z",
     "shell.execute_reply": "2022-10-05T07:03:52.510915Z"
    },
    "papermill": {
     "duration": 0.04931,
     "end_time": "2022-10-05T07:03:52.516228",
     "exception": false,
     "start_time": "2022-10-05T07:03:52.466918",
     "status": "completed"
    },
    "tags": []
   },
   "outputs": [
    {
     "name": "stdout",
     "output_type": "stream",
     "text": [
      "/kaggle/input/fakerlolesportsdata/faker_2017_kespa.csv\n",
      "/kaggle/input/fakerlolesportsdata/faker_2020_spring_playoffs.csv\n",
      "/kaggle/input/fakerlolesportsdata/faker_2016_summer_playoffs.csv\n",
      "/kaggle/input/fakerlolesportsdata/faker_champ_stats_temp.csv\n",
      "/kaggle/input/fakerlolesportsdata/faker_2018_kespa_cup.csv\n",
      "/kaggle/input/fakerlolesportsdata/faker_2017_rift_rivals.csv\n",
      "/kaggle/input/fakerlolesportsdata/faker_2022_summer.csv\n",
      "/kaggle/input/fakerlolesportsdata/faker_2017_spring_playoffs.csv\n",
      "/kaggle/input/fakerlolesportsdata/faker_2017_spring.csv\n",
      "/kaggle/input/fakerlolesportsdata/faker_2013_regional_finals.csv\n",
      "/kaggle/input/fakerlolesportsdata/faker_2013_spring.csv\n",
      "/kaggle/input/fakerlolesportsdata/faker_2020_regional_finals.csv\n",
      "/kaggle/input/fakerlolesportsdata/faker_2017_summer.csv\n",
      "/kaggle/input/fakerlolesportsdata/faker_2016_msi.csv\n",
      "/kaggle/input/fakerlolesportsdata/faker_2018_rift_rivals.csv\n",
      "/kaggle/input/fakerlolesportsdata/faker_2016_iem.csv\n",
      "/kaggle/input/fakerlolesportsdata/faker_2013_summer.csv\n",
      "/kaggle/input/fakerlolesportsdata/faker_match_history.csv\n",
      "/kaggle/input/fakerlolesportsdata/faker_2016_kespa.csv\n",
      "/kaggle/input/fakerlolesportsdata/faker_2021_summer_playoffs.csv\n",
      "/kaggle/input/fakerlolesportsdata/faker_2017_all_stars.csv\n",
      "/kaggle/input/fakerlolesportsdata/faker_2014_summer.csv\n",
      "/kaggle/input/fakerlolesportsdata/faker_2019_spring_playoffs.csv\n",
      "/kaggle/input/fakerlolesportsdata/faker_2022_spring.csv\n",
      "/kaggle/input/fakerlolesportsdata/faker_2019_kespa_cup.csv\n",
      "/kaggle/input/fakerlolesportsdata/faker_2015_kespa.csv\n",
      "/kaggle/input/fakerlolesportsdata/faker_2015_summer.csv\n",
      "/kaggle/input/fakerlolesportsdata/faker_2018_spring_playoffs.csv\n",
      "/kaggle/input/fakerlolesportsdata/faker_2015_msi.csv\n",
      "/kaggle/input/fakerlolesportsdata/faker_2016_spring_playoffs.csv\n",
      "/kaggle/input/fakerlolesportsdata/faker_2016_worlds.csv\n",
      "/kaggle/input/fakerlolesportsdata/faker_2020_midseason_cup.csv\n",
      "/kaggle/input/fakerlolesportsdata/faker_2020_spring.csv\n",
      "/kaggle/input/fakerlolesportsdata/faker_2014_spring.csv\n",
      "/kaggle/input/fakerlolesportsdata/faker_2018_summer.csv\n",
      "/kaggle/input/fakerlolesportsdata/faker_2013_worlds.csv\n",
      "/kaggle/input/fakerlolesportsdata/faker_2017_worlds.csv\n",
      "/kaggle/input/fakerlolesportsdata/faker_2019_msi.csv\n",
      "/kaggle/input/fakerlolesportsdata/faker_champ_stats.csv\n",
      "/kaggle/input/fakerlolesportsdata/faker_2018_asian_games.csv\n",
      "/kaggle/input/fakerlolesportsdata/faker_2015_spring_playoffs.csv\n",
      "/kaggle/input/fakerlolesportsdata/faker_2022_msi.csv\n",
      "/kaggle/input/fakerlolesportsdata/faker_2015_summer_playoffs.csv\n",
      "/kaggle/input/fakerlolesportsdata/faker_2019_spring.csv\n",
      "/kaggle/input/fakerlolesportsdata/faker_2014_regional_finals.csv\n",
      "/kaggle/input/fakerlolesportsdata/faker_2014_all_stars.csv\n",
      "/kaggle/input/fakerlolesportsdata/faker_2021_regional_finals.csv\n",
      "/kaggle/input/fakerlolesportsdata/faker_2015_spring.csv\n",
      "/kaggle/input/fakerlolesportsdata/faker_2021_worlds.csv\n",
      "/kaggle/input/fakerlolesportsdata/faker_2015_worlds.csv\n",
      "/kaggle/input/fakerlolesportsdata/faker_2019_summer_playoffs.csv\n",
      "/kaggle/input/fakerlolesportsdata/faker_2019_worlds.csv\n",
      "/kaggle/input/fakerlolesportsdata/faker_2022_spring_playoffs.csv\n",
      "/kaggle/input/fakerlolesportsdata/faker_2021_spring_playoffs.csv\n",
      "/kaggle/input/fakerlolesportsdata/faker_results_tournaments.csv\n",
      "/kaggle/input/fakerlolesportsdata/faker_2017_summer_playoffs.csv\n",
      "/kaggle/input/fakerlolesportsdata/faker_2020_summer_playoffs.csv\n",
      "/kaggle/input/fakerlolesportsdata/faker_2018_spring.csv\n",
      "/kaggle/input/fakerlolesportsdata/faker_2019_rift_rivals.csv\n",
      "/kaggle/input/fakerlolesportsdata/faker_2021_spring.csv\n",
      "/kaggle/input/fakerlolesportsdata/faker_2016_summer.csv\n",
      "/kaggle/input/fakerlolesportsdata/faker_2014_nlb_summer.csv\n",
      "/kaggle/input/fakerlolesportsdata/faker_2019_summer.csv\n",
      "/kaggle/input/fakerlolesportsdata/faker_2020_summer.csv\n",
      "/kaggle/input/fakerlolesportsdata/faker_2018_regional_finals.csv\n",
      "/kaggle/input/fakerlolesportsdata/faker_2015_preseason.csv\n",
      "/kaggle/input/fakerlolesportsdata/faker_2017_msi.csv\n",
      "/kaggle/input/fakerlolesportsdata/faker_2022_summer_playoffs.csv\n",
      "/kaggle/input/fakerlolesportsdata/faker_2014_winter.csv\n",
      "/kaggle/input/fakerlolesportsdata/faker_2021_summer.csv\n",
      "/kaggle/input/fakerlolesportsdata/faker_2016_spring.csv\n"
     ]
    }
   ],
   "source": [
    "# This Python 3 environment comes with many helpful analytics libraries installed\n",
    "# It is defined by the kaggle/python Docker image: https://github.com/kaggle/docker-python\n",
    "# For example, here's several helpful packages to load\n",
    "\n",
    "import numpy as np # linear algebra\n",
    "import pandas as pd # data processing, CSV file I/O (e.g. pd.read_csv)\n",
    "\n",
    "# Input data files are available in the read-only \"../input/\" directory\n",
    "# For example, running this (by clicking run or pressing Shift+Enter) will list all files under the input directory\n",
    "\n",
    "import os\n",
    "for dirname, _, filenames in os.walk('/kaggle/input'):\n",
    "    for filename in filenames:\n",
    "        print(os.path.join(dirname, filename))\n",
    "\n",
    "# You can write up to 20GB to the current directory (/kaggle/working/) that gets preserved as output when you create a version using \"Save & Run All\" \n",
    "# You can also write temporary files to /kaggle/temp/, but they won't be saved outside of the current session"
   ]
  },
  {
   "cell_type": "markdown",
   "id": "4f38dcc6",
   "metadata": {
    "papermill": {
     "duration": 0.005005,
     "end_time": "2022-10-05T07:03:52.528705",
     "exception": false,
     "start_time": "2022-10-05T07:03:52.523700",
     "status": "completed"
    },
    "tags": []
   },
   "source": [
    "# Scikit-Learn"
   ]
  },
  {
   "cell_type": "code",
   "execution_count": 2,
   "id": "06d63202",
   "metadata": {
    "execution": {
     "iopub.execute_input": "2022-10-05T07:03:52.540467Z",
     "iopub.status.busy": "2022-10-05T07:03:52.539370Z",
     "iopub.status.idle": "2022-10-05T07:03:52.574514Z",
     "shell.execute_reply": "2022-10-05T07:03:52.573610Z"
    },
    "papermill": {
     "duration": 0.043517,
     "end_time": "2022-10-05T07:03:52.577102",
     "exception": false,
     "start_time": "2022-10-05T07:03:52.533585",
     "status": "completed"
    },
    "tags": []
   },
   "outputs": [],
   "source": [
    "faker = pd.read_csv('../input/fakerlolesportsdata/faker_match_history.csv')"
   ]
  },
  {
   "cell_type": "code",
   "execution_count": 3,
   "id": "b83e5942",
   "metadata": {
    "execution": {
     "iopub.execute_input": "2022-10-05T07:03:52.589214Z",
     "iopub.status.busy": "2022-10-05T07:03:52.588411Z",
     "iopub.status.idle": "2022-10-05T07:03:52.627804Z",
     "shell.execute_reply": "2022-10-05T07:03:52.626473Z"
    },
    "papermill": {
     "duration": 0.048343,
     "end_time": "2022-10-05T07:03:52.630513",
     "exception": false,
     "start_time": "2022-10-05T07:03:52.582170",
     "status": "completed"
    },
    "tags": []
   },
   "outputs": [
    {
     "data": {
      "text/html": [
       "<div>\n",
       "<style scoped>\n",
       "    .dataframe tbody tr th:only-of-type {\n",
       "        vertical-align: middle;\n",
       "    }\n",
       "\n",
       "    .dataframe tbody tr th {\n",
       "        vertical-align: top;\n",
       "    }\n",
       "\n",
       "    .dataframe thead th {\n",
       "        text-align: right;\n",
       "    }\n",
       "</style>\n",
       "<table border=\"1\" class=\"dataframe\">\n",
       "  <thead>\n",
       "    <tr style=\"text-align: right;\">\n",
       "      <th></th>\n",
       "      <th>Unnamed: 0</th>\n",
       "      <th>Unnamed: 0.1</th>\n",
       "      <th>Date</th>\n",
       "      <th>Tournament</th>\n",
       "      <th>Team</th>\n",
       "      <th>OpponentTeam</th>\n",
       "      <th>W/L</th>\n",
       "      <th>Blue</th>\n",
       "      <th>Red</th>\n",
       "      <th>Side</th>\n",
       "      <th>...</th>\n",
       "      <th>CSD</th>\n",
       "      <th>SpellD</th>\n",
       "      <th>SpellF</th>\n",
       "      <th>Items</th>\n",
       "      <th>Item1</th>\n",
       "      <th>Item2</th>\n",
       "      <th>Item3</th>\n",
       "      <th>Item4</th>\n",
       "      <th>Item5</th>\n",
       "      <th>Item6</th>\n",
       "    </tr>\n",
       "  </thead>\n",
       "  <tbody>\n",
       "    <tr>\n",
       "      <th>0</th>\n",
       "      <td>0</td>\n",
       "      <td>0</td>\n",
       "      <td>2022-08-28</td>\n",
       "      <td>LCK 2022 Summer Playoffs</td>\n",
       "      <td>T1</td>\n",
       "      <td>Gen.G</td>\n",
       "      <td>Loss</td>\n",
       "      <td>Gen.G</td>\n",
       "      <td>T1</td>\n",
       "      <td>Red</td>\n",
       "      <td>...</td>\n",
       "      <td>-32</td>\n",
       "      <td>Teleport</td>\n",
       "      <td>Flash</td>\n",
       "      <td>['Everfrost', 'Control Ward', \"Zhonya's Hourgl...</td>\n",
       "      <td>Everfrost</td>\n",
       "      <td>Control Ward</td>\n",
       "      <td>Zhonya's Hourglass</td>\n",
       "      <td>Banshee's Veil</td>\n",
       "      <td>Blasting Wand</td>\n",
       "      <td>Ionian Boots of Lucidity</td>\n",
       "    </tr>\n",
       "    <tr>\n",
       "      <th>1</th>\n",
       "      <td>1</td>\n",
       "      <td>1</td>\n",
       "      <td>2022-08-28</td>\n",
       "      <td>LCK 2022 Summer Playoffs</td>\n",
       "      <td>T1</td>\n",
       "      <td>Gen.G</td>\n",
       "      <td>Loss</td>\n",
       "      <td>T1</td>\n",
       "      <td>Gen.G</td>\n",
       "      <td>Blue</td>\n",
       "      <td>...</td>\n",
       "      <td>-46</td>\n",
       "      <td>Teleport</td>\n",
       "      <td>Flash</td>\n",
       "      <td>['Goredrinker', 'Vampiric Scepter', 'EmptyIcon...</td>\n",
       "      <td>Goredrinker</td>\n",
       "      <td>Vampiric Scepter</td>\n",
       "      <td>EmptyIcon</td>\n",
       "      <td>Doran's Blade</td>\n",
       "      <td>Mercury's Treads</td>\n",
       "      <td>Recurve Bow</td>\n",
       "    </tr>\n",
       "    <tr>\n",
       "      <th>2</th>\n",
       "      <td>2</td>\n",
       "      <td>2</td>\n",
       "      <td>2022-08-28</td>\n",
       "      <td>LCK 2022 Summer Playoffs</td>\n",
       "      <td>T1</td>\n",
       "      <td>Gen.G</td>\n",
       "      <td>Loss</td>\n",
       "      <td>T1</td>\n",
       "      <td>Gen.G</td>\n",
       "      <td>Blue</td>\n",
       "      <td>...</td>\n",
       "      <td>-39</td>\n",
       "      <td>Teleport</td>\n",
       "      <td>Flash</td>\n",
       "      <td>['Eternal Winter', \"Rabadon's Deathcap\", \"Zhon...</td>\n",
       "      <td>Eternal Winter</td>\n",
       "      <td>Rabadon's Deathcap</td>\n",
       "      <td>Zhonya's Hourglass</td>\n",
       "      <td>Void Staff</td>\n",
       "      <td>Ionian Boots of Lucidity</td>\n",
       "      <td>Dark Seal</td>\n",
       "    </tr>\n",
       "    <tr>\n",
       "      <th>3</th>\n",
       "      <td>3</td>\n",
       "      <td>3</td>\n",
       "      <td>2022-08-21</td>\n",
       "      <td>LCK 2022 Summer Playoffs</td>\n",
       "      <td>T1</td>\n",
       "      <td>DWG KIA</td>\n",
       "      <td>Win</td>\n",
       "      <td>T1</td>\n",
       "      <td>DWG KIA</td>\n",
       "      <td>Blue</td>\n",
       "      <td>...</td>\n",
       "      <td>-92</td>\n",
       "      <td>Teleport</td>\n",
       "      <td>Flash</td>\n",
       "      <td>['Everfrost', 'EmptyIcon', \"Zhonya's Hourglass...</td>\n",
       "      <td>Everfrost</td>\n",
       "      <td>EmptyIcon</td>\n",
       "      <td>Zhonya's Hourglass</td>\n",
       "      <td>Sorcerer's Shoes</td>\n",
       "      <td>Banshee's Veil</td>\n",
       "      <td>Rabadon's Deathcap</td>\n",
       "    </tr>\n",
       "    <tr>\n",
       "      <th>4</th>\n",
       "      <td>4</td>\n",
       "      <td>4</td>\n",
       "      <td>2022-08-21</td>\n",
       "      <td>LCK 2022 Summer Playoffs</td>\n",
       "      <td>T1</td>\n",
       "      <td>DWG KIA</td>\n",
       "      <td>Loss</td>\n",
       "      <td>T1</td>\n",
       "      <td>DWG KIA</td>\n",
       "      <td>Blue</td>\n",
       "      <td>...</td>\n",
       "      <td>0</td>\n",
       "      <td>Teleport</td>\n",
       "      <td>Flash</td>\n",
       "      <td>['Blasting Wand', 'Morellonomicon', \"Zhonya's ...</td>\n",
       "      <td>Blasting Wand</td>\n",
       "      <td>Morellonomicon</td>\n",
       "      <td>Zhonya's Hourglass</td>\n",
       "      <td>Crown of the Shattered Queen</td>\n",
       "      <td>Dark Seal</td>\n",
       "      <td>Sorcerer's Shoes</td>\n",
       "    </tr>\n",
       "  </tbody>\n",
       "</table>\n",
       "<p>5 rows × 30 columns</p>\n",
       "</div>"
      ],
      "text/plain": [
       "   Unnamed: 0  Unnamed: 0.1        Date                Tournament Team  \\\n",
       "0           0             0  2022-08-28  LCK 2022 Summer Playoffs   T1   \n",
       "1           1             1  2022-08-28  LCK 2022 Summer Playoffs   T1   \n",
       "2           2             2  2022-08-28  LCK 2022 Summer Playoffs   T1   \n",
       "3           3             3  2022-08-21  LCK 2022 Summer Playoffs   T1   \n",
       "4           4             4  2022-08-21  LCK 2022 Summer Playoffs   T1   \n",
       "\n",
       "  OpponentTeam   W/L   Blue      Red  Side  ... CSD    SpellD SpellF  \\\n",
       "0        Gen.G  Loss  Gen.G       T1   Red  ... -32  Teleport  Flash   \n",
       "1        Gen.G  Loss     T1    Gen.G  Blue  ... -46  Teleport  Flash   \n",
       "2        Gen.G  Loss     T1    Gen.G  Blue  ... -39  Teleport  Flash   \n",
       "3      DWG KIA   Win     T1  DWG KIA  Blue  ... -92  Teleport  Flash   \n",
       "4      DWG KIA  Loss     T1  DWG KIA  Blue  ...   0  Teleport  Flash   \n",
       "\n",
       "                                               Items           Item1  \\\n",
       "0  ['Everfrost', 'Control Ward', \"Zhonya's Hourgl...       Everfrost   \n",
       "1  ['Goredrinker', 'Vampiric Scepter', 'EmptyIcon...     Goredrinker   \n",
       "2  ['Eternal Winter', \"Rabadon's Deathcap\", \"Zhon...  Eternal Winter   \n",
       "3  ['Everfrost', 'EmptyIcon', \"Zhonya's Hourglass...       Everfrost   \n",
       "4  ['Blasting Wand', 'Morellonomicon', \"Zhonya's ...   Blasting Wand   \n",
       "\n",
       "                Item2               Item3                         Item4  \\\n",
       "0        Control Ward  Zhonya's Hourglass                Banshee's Veil   \n",
       "1    Vampiric Scepter           EmptyIcon                 Doran's Blade   \n",
       "2  Rabadon's Deathcap  Zhonya's Hourglass                    Void Staff   \n",
       "3           EmptyIcon  Zhonya's Hourglass              Sorcerer's Shoes   \n",
       "4      Morellonomicon  Zhonya's Hourglass  Crown of the Shattered Queen   \n",
       "\n",
       "                      Item5                     Item6  \n",
       "0             Blasting Wand  Ionian Boots of Lucidity  \n",
       "1          Mercury's Treads               Recurve Bow  \n",
       "2  Ionian Boots of Lucidity                 Dark Seal  \n",
       "3            Banshee's Veil        Rabadon's Deathcap  \n",
       "4                 Dark Seal          Sorcerer's Shoes  \n",
       "\n",
       "[5 rows x 30 columns]"
      ]
     },
     "execution_count": 3,
     "metadata": {},
     "output_type": "execute_result"
    }
   ],
   "source": [
    "faker.head()"
   ]
  },
  {
   "cell_type": "code",
   "execution_count": 4,
   "id": "6773e762",
   "metadata": {
    "execution": {
     "iopub.execute_input": "2022-10-05T07:03:52.642348Z",
     "iopub.status.busy": "2022-10-05T07:03:52.641942Z",
     "iopub.status.idle": "2022-10-05T07:03:52.654006Z",
     "shell.execute_reply": "2022-10-05T07:03:52.653028Z"
    },
    "papermill": {
     "duration": 0.020454,
     "end_time": "2022-10-05T07:03:52.656169",
     "exception": false,
     "start_time": "2022-10-05T07:03:52.635715",
     "status": "completed"
    },
    "tags": []
   },
   "outputs": [],
   "source": [
    "faker = faker.dropna()"
   ]
  },
  {
   "cell_type": "code",
   "execution_count": 5,
   "id": "cd3e2049",
   "metadata": {
    "execution": {
     "iopub.execute_input": "2022-10-05T07:03:52.668464Z",
     "iopub.status.busy": "2022-10-05T07:03:52.667722Z",
     "iopub.status.idle": "2022-10-05T07:03:52.684255Z",
     "shell.execute_reply": "2022-10-05T07:03:52.683109Z"
    },
    "papermill": {
     "duration": 0.025401,
     "end_time": "2022-10-05T07:03:52.686752",
     "exception": false,
     "start_time": "2022-10-05T07:03:52.661351",
     "status": "completed"
    },
    "tags": []
   },
   "outputs": [
    {
     "data": {
      "text/html": [
       "<div>\n",
       "<style scoped>\n",
       "    .dataframe tbody tr th:only-of-type {\n",
       "        vertical-align: middle;\n",
       "    }\n",
       "\n",
       "    .dataframe tbody tr th {\n",
       "        vertical-align: top;\n",
       "    }\n",
       "\n",
       "    .dataframe thead th {\n",
       "        text-align: right;\n",
       "    }\n",
       "</style>\n",
       "<table border=\"1\" class=\"dataframe\">\n",
       "  <thead>\n",
       "    <tr style=\"text-align: right;\">\n",
       "      <th></th>\n",
       "      <th>OpponentTeam</th>\n",
       "      <th>Side</th>\n",
       "      <th>Champion</th>\n",
       "      <th>Vs</th>\n",
       "    </tr>\n",
       "  </thead>\n",
       "  <tbody>\n",
       "    <tr>\n",
       "      <th>0</th>\n",
       "      <td>Gen.G</td>\n",
       "      <td>Red</td>\n",
       "      <td>Ahri</td>\n",
       "      <td>Azir</td>\n",
       "    </tr>\n",
       "    <tr>\n",
       "      <th>1</th>\n",
       "      <td>Gen.G</td>\n",
       "      <td>Blue</td>\n",
       "      <td>Renekton</td>\n",
       "      <td>Sylas</td>\n",
       "    </tr>\n",
       "    <tr>\n",
       "      <th>2</th>\n",
       "      <td>Gen.G</td>\n",
       "      <td>Blue</td>\n",
       "      <td>Ahri</td>\n",
       "      <td>Azir</td>\n",
       "    </tr>\n",
       "    <tr>\n",
       "      <th>3</th>\n",
       "      <td>DWG KIA</td>\n",
       "      <td>Blue</td>\n",
       "      <td>Galio</td>\n",
       "      <td>Yasuo</td>\n",
       "    </tr>\n",
       "    <tr>\n",
       "      <th>4</th>\n",
       "      <td>DWG KIA</td>\n",
       "      <td>Blue</td>\n",
       "      <td>Azir</td>\n",
       "      <td>Sylas</td>\n",
       "    </tr>\n",
       "  </tbody>\n",
       "</table>\n",
       "</div>"
      ],
      "text/plain": [
       "  OpponentTeam  Side  Champion     Vs\n",
       "0        Gen.G   Red      Ahri   Azir\n",
       "1        Gen.G  Blue  Renekton  Sylas\n",
       "2        Gen.G  Blue      Ahri   Azir\n",
       "3      DWG KIA  Blue     Galio  Yasuo\n",
       "4      DWG KIA  Blue      Azir  Sylas"
      ]
     },
     "execution_count": 5,
     "metadata": {},
     "output_type": "execute_result"
    }
   ],
   "source": [
    "X = faker.loc[:,['OpponentTeam', 'Side', 'Champion', 'Vs', 'KDA', 'Dmg', 'CSD']]\n",
    "to_encode = X.loc[:,['OpponentTeam', 'Side', 'Champion', 'Vs']]\n",
    "to_encode.head()"
   ]
  },
  {
   "cell_type": "code",
   "execution_count": 6,
   "id": "8597e3e2",
   "metadata": {
    "execution": {
     "iopub.execute_input": "2022-10-05T07:03:52.699510Z",
     "iopub.status.busy": "2022-10-05T07:03:52.698545Z",
     "iopub.status.idle": "2022-10-05T07:03:53.773258Z",
     "shell.execute_reply": "2022-10-05T07:03:53.772149Z"
    },
    "papermill": {
     "duration": 1.083531,
     "end_time": "2022-10-05T07:03:53.775698",
     "exception": false,
     "start_time": "2022-10-05T07:03:52.692167",
     "status": "completed"
    },
    "tags": []
   },
   "outputs": [
    {
     "data": {
      "text/plain": [
       "array([[  0. ,   0. ,   0. , ...,   1. ,   6.4, -32. ],\n",
       "       [  0. ,   0. ,   0. , ...,   0.2,   8. , -46. ],\n",
       "       [  0. ,   0. ,   0. , ...,   1.5,  13.1, -39. ],\n",
       "       ...,\n",
       "       [  0. ,   0. ,   0. , ...,   4. ,  12.9,  52. ],\n",
       "       [  0. ,   0. ,   0. , ...,   2.5,   8.9,  42. ],\n",
       "       [  0. ,   0. ,   0. , ...,   1. ,  16.8,  10. ]])"
      ]
     },
     "execution_count": 6,
     "metadata": {},
     "output_type": "execute_result"
    }
   ],
   "source": [
    "from sklearn.compose import ColumnTransformer\n",
    "from sklearn.preprocessing import OneHotEncoder\n",
    "ohe = OneHotEncoder()\n",
    "ct = ColumnTransformer(transformers=[('encoder', ohe, [0, 1, 2, 3])], remainder='passthrough', sparse_threshold=0)\n",
    "X = np.array(ct.fit_transform(X))\n",
    "X"
   ]
  },
  {
   "cell_type": "code",
   "execution_count": 7,
   "id": "4d571e69",
   "metadata": {
    "execution": {
     "iopub.execute_input": "2022-10-05T07:03:53.788026Z",
     "iopub.status.busy": "2022-10-05T07:03:53.787650Z",
     "iopub.status.idle": "2022-10-05T07:03:53.798025Z",
     "shell.execute_reply": "2022-10-05T07:03:53.797029Z"
    },
    "papermill": {
     "duration": 0.01928,
     "end_time": "2022-10-05T07:03:53.800300",
     "exception": false,
     "start_time": "2022-10-05T07:03:53.781020",
     "status": "completed"
    },
    "tags": []
   },
   "outputs": [
    {
     "data": {
      "text/plain": [
       "LabelEncoder()"
      ]
     },
     "execution_count": 7,
     "metadata": {},
     "output_type": "execute_result"
    }
   ],
   "source": [
    "from sklearn.preprocessing import LabelEncoder\n",
    "le = LabelEncoder()\n",
    "temp = faker['W/L']\n",
    "le.fit(temp)"
   ]
  },
  {
   "cell_type": "code",
   "execution_count": 8,
   "id": "c1630c80",
   "metadata": {
    "execution": {
     "iopub.execute_input": "2022-10-05T07:03:53.813016Z",
     "iopub.status.busy": "2022-10-05T07:03:53.812619Z",
     "iopub.status.idle": "2022-10-05T07:03:53.819294Z",
     "shell.execute_reply": "2022-10-05T07:03:53.818385Z"
    },
    "papermill": {
     "duration": 0.01555,
     "end_time": "2022-10-05T07:03:53.821433",
     "exception": false,
     "start_time": "2022-10-05T07:03:53.805883",
     "status": "completed"
    },
    "tags": []
   },
   "outputs": [
    {
     "data": {
      "text/plain": [
       "['Loss', 'Win']"
      ]
     },
     "execution_count": 8,
     "metadata": {},
     "output_type": "execute_result"
    }
   ],
   "source": [
    "list(le.classes_)"
   ]
  },
  {
   "cell_type": "code",
   "execution_count": 9,
   "id": "a43b7459",
   "metadata": {
    "execution": {
     "iopub.execute_input": "2022-10-05T07:03:53.834368Z",
     "iopub.status.busy": "2022-10-05T07:03:53.833508Z",
     "iopub.status.idle": "2022-10-05T07:03:53.840844Z",
     "shell.execute_reply": "2022-10-05T07:03:53.839893Z"
    },
    "papermill": {
     "duration": 0.015942,
     "end_time": "2022-10-05T07:03:53.842919",
     "exception": false,
     "start_time": "2022-10-05T07:03:53.826977",
     "status": "completed"
    },
    "tags": []
   },
   "outputs": [
    {
     "data": {
      "text/plain": [
       "array([0, 0, 0, 1, 0, 0, 1, 1, 1, 1, 0, 0, 1, 0, 1, 1, 1, 0, 0, 1, 0, 1,\n",
       "       1, 1, 0, 1, 1, 0, 1, 1, 1, 0, 1, 1, 1, 1, 1, 0, 1, 1, 0, 0, 1, 1,\n",
       "       1, 1, 1, 1, 1, 0, 1, 1, 0, 1, 0, 1, 0, 1, 1, 1, 1, 1, 1, 0, 1, 1,\n",
       "       0, 1, 1, 0, 1, 1, 1, 1, 1, 1, 1, 1, 0, 1, 1, 1, 1, 1, 1, 1, 1, 0,\n",
       "       1, 1, 1, 0, 1, 1, 1, 1, 1, 1, 1, 1, 1, 1, 0, 1, 1, 1, 1, 1, 1, 1,\n",
       "       0, 1, 1, 0, 1, 0, 1, 1, 1, 1, 1, 1, 1, 0, 1, 1, 0, 0, 1, 1, 0, 1,\n",
       "       1, 1, 1, 1, 1, 1, 0, 1, 1, 0, 0, 1, 1, 0, 1, 0, 0, 1, 1, 1, 0, 1,\n",
       "       1, 1, 0, 0, 1, 1, 1, 0, 1, 1, 0, 1, 0, 1, 0, 1, 0, 1, 1, 1, 0, 1,\n",
       "       1, 0, 0, 1, 1, 0, 0, 1, 1, 0, 1, 1, 1, 0, 0, 0, 0, 1, 1, 0, 1, 0,\n",
       "       1, 1, 0, 0, 0, 1, 1, 0, 1, 1, 1, 1, 0, 1, 1, 1, 1, 1, 0, 1, 0, 1,\n",
       "       1, 1, 0, 1, 0, 0, 1, 0, 0, 1, 0, 0, 0, 1, 1, 0, 1, 0, 1, 0, 1, 1,\n",
       "       0])"
      ]
     },
     "execution_count": 9,
     "metadata": {},
     "output_type": "execute_result"
    }
   ],
   "source": [
    "y = le.transform(temp)\n",
    "y"
   ]
  },
  {
   "cell_type": "code",
   "execution_count": 10,
   "id": "e4f17e8c",
   "metadata": {
    "execution": {
     "iopub.execute_input": "2022-10-05T07:03:53.856130Z",
     "iopub.status.busy": "2022-10-05T07:03:53.855278Z",
     "iopub.status.idle": "2022-10-05T07:03:53.918634Z",
     "shell.execute_reply": "2022-10-05T07:03:53.917512Z"
    },
    "papermill": {
     "duration": 0.073265,
     "end_time": "2022-10-05T07:03:53.921967",
     "exception": false,
     "start_time": "2022-10-05T07:03:53.848702",
     "status": "completed"
    },
    "tags": []
   },
   "outputs": [],
   "source": [
    "from sklearn.model_selection import train_test_split\n",
    "X_train, X_test, y_train, y_test = train_test_split(X, y, test_size=0.2)"
   ]
  },
  {
   "cell_type": "code",
   "execution_count": 11,
   "id": "c62d19d5",
   "metadata": {
    "execution": {
     "iopub.execute_input": "2022-10-05T07:03:53.934980Z",
     "iopub.status.busy": "2022-10-05T07:03:53.934325Z",
     "iopub.status.idle": "2022-10-05T07:03:54.021393Z",
     "shell.execute_reply": "2022-10-05T07:03:54.020565Z"
    },
    "papermill": {
     "duration": 0.095953,
     "end_time": "2022-10-05T07:03:54.023659",
     "exception": false,
     "start_time": "2022-10-05T07:03:53.927706",
     "status": "completed"
    },
    "tags": []
   },
   "outputs": [
    {
     "data": {
      "text/plain": [
       "LogisticRegression()"
      ]
     },
     "execution_count": 11,
     "metadata": {},
     "output_type": "execute_result"
    }
   ],
   "source": [
    "from sklearn.linear_model import LogisticRegression\n",
    "lr = LogisticRegression()\n",
    "lr"
   ]
  },
  {
   "cell_type": "code",
   "execution_count": 12,
   "id": "a6407765",
   "metadata": {
    "execution": {
     "iopub.execute_input": "2022-10-05T07:03:54.037223Z",
     "iopub.status.busy": "2022-10-05T07:03:54.036449Z",
     "iopub.status.idle": "2022-10-05T07:03:54.197569Z",
     "shell.execute_reply": "2022-10-05T07:03:54.194545Z"
    },
    "papermill": {
     "duration": 0.174996,
     "end_time": "2022-10-05T07:03:54.204488",
     "exception": false,
     "start_time": "2022-10-05T07:03:54.029492",
     "status": "completed"
    },
    "tags": []
   },
   "outputs": [
    {
     "name": "stderr",
     "output_type": "stream",
     "text": [
      "/opt/conda/lib/python3.7/site-packages/sklearn/linear_model/_logistic.py:818: ConvergenceWarning: lbfgs failed to converge (status=1):\n",
      "STOP: TOTAL NO. of ITERATIONS REACHED LIMIT.\n",
      "\n",
      "Increase the number of iterations (max_iter) or scale the data as shown in:\n",
      "    https://scikit-learn.org/stable/modules/preprocessing.html\n",
      "Please also refer to the documentation for alternative solver options:\n",
      "    https://scikit-learn.org/stable/modules/linear_model.html#logistic-regression\n",
      "  extra_warning_msg=_LOGISTIC_SOLVER_CONVERGENCE_MSG,\n"
     ]
    },
    {
     "data": {
      "text/plain": [
       "LogisticRegression()"
      ]
     },
     "execution_count": 12,
     "metadata": {},
     "output_type": "execute_result"
    }
   ],
   "source": [
    "lr.fit(X_train, y_train)"
   ]
  },
  {
   "cell_type": "code",
   "execution_count": 13,
   "id": "dc773f68",
   "metadata": {
    "execution": {
     "iopub.execute_input": "2022-10-05T07:03:54.238685Z",
     "iopub.status.busy": "2022-10-05T07:03:54.237490Z",
     "iopub.status.idle": "2022-10-05T07:03:54.266244Z",
     "shell.execute_reply": "2022-10-05T07:03:54.264606Z"
    },
    "papermill": {
     "duration": 0.049239,
     "end_time": "2022-10-05T07:03:54.271073",
     "exception": false,
     "start_time": "2022-10-05T07:03:54.221834",
     "status": "completed"
    },
    "tags": []
   },
   "outputs": [
    {
     "data": {
      "text/plain": [
       "array([0, 1, 1, 1, 0, 1, 1, 0, 0, 0, 1, 0, 0, 0, 1, 0, 1, 1, 1, 0, 1, 1,\n",
       "       1, 1, 1, 1, 1, 1, 1, 1, 1, 1, 0, 1, 1, 1, 1, 1, 1, 0, 0, 0, 0, 1,\n",
       "       0, 1, 0, 0, 1])"
      ]
     },
     "execution_count": 13,
     "metadata": {},
     "output_type": "execute_result"
    }
   ],
   "source": [
    "lr.predict(X_test)"
   ]
  },
  {
   "cell_type": "code",
   "execution_count": 14,
   "id": "7200ddaf",
   "metadata": {
    "execution": {
     "iopub.execute_input": "2022-10-05T07:03:54.291974Z",
     "iopub.status.busy": "2022-10-05T07:03:54.291461Z",
     "iopub.status.idle": "2022-10-05T07:03:54.298643Z",
     "shell.execute_reply": "2022-10-05T07:03:54.297551Z"
    },
    "papermill": {
     "duration": 0.016505,
     "end_time": "2022-10-05T07:03:54.300901",
     "exception": false,
     "start_time": "2022-10-05T07:03:54.284396",
     "status": "completed"
    },
    "tags": []
   },
   "outputs": [
    {
     "data": {
      "text/plain": [
       "array([0, 1, 1, 1, 0, 1, 1, 0, 0, 0, 0, 0, 1, 0, 1, 0, 1, 1, 1, 0, 0, 0,\n",
       "       1, 1, 1, 1, 1, 0, 1, 1, 1, 0, 1, 0, 1, 1, 1, 1, 1, 1, 1, 0, 0, 1,\n",
       "       0, 0, 0, 0, 1])"
      ]
     },
     "execution_count": 14,
     "metadata": {},
     "output_type": "execute_result"
    }
   ],
   "source": [
    "y_test"
   ]
  },
  {
   "cell_type": "markdown",
   "id": "785e6759",
   "metadata": {
    "papermill": {
     "duration": 0.005776,
     "end_time": "2022-10-05T07:03:54.313772",
     "exception": false,
     "start_time": "2022-10-05T07:03:54.307996",
     "status": "completed"
    },
    "tags": []
   },
   "source": [
    "Note that the above is only with games where damage was recorded. If we consider games where damage was not recorded, we would have many more datapoints. That is the next step."
   ]
  },
  {
   "cell_type": "code",
   "execution_count": null,
   "id": "947d897f",
   "metadata": {
    "papermill": {
     "duration": 0.005728,
     "end_time": "2022-10-05T07:03:54.325516",
     "exception": false,
     "start_time": "2022-10-05T07:03:54.319788",
     "status": "completed"
    },
    "tags": []
   },
   "outputs": [],
   "source": []
  }
 ],
 "metadata": {
  "kernelspec": {
   "display_name": "Python 3",
   "language": "python",
   "name": "python3"
  },
  "language_info": {
   "codemirror_mode": {
    "name": "ipython",
    "version": 3
   },
   "file_extension": ".py",
   "mimetype": "text/x-python",
   "name": "python",
   "nbconvert_exporter": "python",
   "pygments_lexer": "ipython3",
   "version": "3.7.12"
  },
  "papermill": {
   "default_parameters": {},
   "duration": 11.634524,
   "end_time": "2022-10-05T07:03:55.053112",
   "environment_variables": {},
   "exception": null,
   "input_path": "__notebook__.ipynb",
   "output_path": "__notebook__.ipynb",
   "parameters": {},
   "start_time": "2022-10-05T07:03:43.418588",
   "version": "2.3.4"
  }
 },
 "nbformat": 4,
 "nbformat_minor": 5
}
